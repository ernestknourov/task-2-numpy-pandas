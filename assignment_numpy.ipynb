{
 "cells": [
  {
   "cell_type": "markdown",
   "id": "d3df79dd",
   "metadata": {},
   "source": [
    "## Упражнения по библиотеке Numpy"
   ]
  },
  {
   "cell_type": "code",
   "execution_count": 171,
   "id": "76b9c43b",
   "metadata": {},
   "outputs": [],
   "source": [
    "import numpy as np"
   ]
  },
  {
   "cell_type": "markdown",
   "id": "03727b7c",
   "metadata": {},
   "source": [
    "**1.** Дан случайный массив, поменять знак у элементов, значения которых между 3 и 8"
   ]
  },
  {
   "cell_type": "code",
   "execution_count": 176,
   "id": "b89a7523",
   "metadata": {},
   "outputs": [
    {
     "name": "stdout",
     "output_type": "stream",
     "text": [
      "[9 2 4 1 6 6 4 5 9 7]\n",
      "[ 9  2 -4  1 -6 -6 -4 -5  9 -7]\n"
     ]
    }
   ],
   "source": [
    "arr = np.random.randint(0,10,10)\n",
    "print(arr)\n",
    "for i in np.where(abs(arr-5.5)<=2.5): # <=> arr>3 and arr<8\n",
    "       arr[i] = -arr[i]\n",
    "print(arr)"
   ]
  },
  {
   "cell_type": "markdown",
   "id": "5fa4abda",
   "metadata": {},
   "source": [
    "**2.** Заменить максимальный элемент случайного массива на 0"
   ]
  },
  {
   "cell_type": "code",
   "execution_count": 177,
   "id": "f2788a6e",
   "metadata": {},
   "outputs": [
    {
     "name": "stdout",
     "output_type": "stream",
     "text": [
      "[ 9  2 -4  1 -6 -6 -4 -5  9 -7]\n",
      "[ 0  2 -4  1 -6 -6 -4 -5  0 -7]\n"
     ]
    }
   ],
   "source": [
    "print(arr)\n",
    "arr[arr == max(arr)] = 0\n",
    "print(arr)"
   ]
  },
  {
   "cell_type": "markdown",
   "id": "3cac656b",
   "metadata": {},
   "source": [
    "**3.** Построить прямое произведение массивов (все комбинации с каждым элементом). На вход подается двумерный массив"
   ]
  },
  {
   "cell_type": "code",
   "execution_count": 178,
   "id": "3396b764",
   "metadata": {},
   "outputs": [
    {
     "name": "stdout",
     "output_type": "stream",
     "text": [
      "[[1 4 7]\n",
      " [1 4 8]\n",
      " [1 5 7]\n",
      " [1 5 8]\n",
      " [1 6 7]\n",
      " [1 6 8]\n",
      " [2 4 7]\n",
      " [2 4 8]\n",
      " [2 5 7]\n",
      " [2 5 8]\n",
      " [2 6 7]\n",
      " [2 6 8]\n",
      " [3 4 7]\n",
      " [3 4 8]\n",
      " [3 5 7]\n",
      " [3 5 8]\n",
      " [3 6 7]\n",
      " [3 6 8]]\n"
     ]
    }
   ],
   "source": [
    "def cartesian(arrays): \n",
    "    arrays = [np.asarray(a) for a in arrays]\n",
    "    shape = map(len, arrays)\n",
    "\n",
    "    idx = np.indices(shape, dtype=int)\n",
    "    idx = idx.reshape(len(arrays), -1).T\n",
    "\n",
    "    for n, arr in enumerate(arrays):\n",
    "        idx[:, n] = arrays[n][idx[:, n]]\n",
    "\n",
    "    return idx\n",
    "\n",
    "print(cartesian(([1, 2, 3], [4, 5, 6], [7,8])))"
   ]
  },
  {
   "cell_type": "markdown",
   "id": "674c9354",
   "metadata": {},
   "source": [
    "**4.** Даны 2 массива A (8x3) и B (2x2). Найти строки в A, которые содержат элементы из каждой строки в B, независимо от порядка элементов в B"
   ]
  },
  {
   "cell_type": "code",
   "execution_count": 179,
   "id": "cb664782",
   "metadata": {},
   "outputs": [
    {
     "name": "stdout",
     "output_type": "stream",
     "text": [
      "[[4 0 0]\n",
      " [0 2 2]\n",
      " [1 0 0]\n",
      " [3 4 4]\n",
      " [0 3 1]\n",
      " [2 0 3]\n",
      " [2 2 4]\n",
      " [3 3 0]]\n",
      "--------------------\n",
      "[[4 1]\n",
      " [0 3]]\n",
      "--------------------\n",
      "[[4 0 0]\n",
      " [1 0 0]\n",
      " [3 4 4]\n",
      " [0 3 1]]\n"
     ]
    }
   ],
   "source": [
    "a = np.random.randint(0,5,(8,3))\n",
    "b = np.random.randint(0,5,(2,2))\n",
    "print(a)\n",
    "print(20*'-')\n",
    "print(b)\n",
    "print(20*'-')\n",
    "mask = [np.isin(row,b[0]).any() and np.isin(row,b[1]).any() for row in a]\n",
    "print(a[mask])"
   ]
  },
  {
   "cell_type": "markdown",
   "id": "fa46533b",
   "metadata": {},
   "source": [
    "**5.** Дана 10x3 матрица, найти строки из неравных значений (например строка [2,2,3] остается, строка [3,3,3] удаляется)"
   ]
  },
  {
   "cell_type": "code",
   "execution_count": 183,
   "id": "fa545b23",
   "metadata": {},
   "outputs": [
    {
     "name": "stdout",
     "output_type": "stream",
     "text": [
      "[[2 2 2]\n",
      " [1 1 0]\n",
      " [0 1 2]\n",
      " [1 2 1]\n",
      " [2 1 1]\n",
      " [2 2 1]\n",
      " [0 0 2]\n",
      " [2 1 1]\n",
      " [2 2 2]\n",
      " [1 2 0]]\n",
      "----------\n",
      "[[1 1 0]\n",
      " [0 1 2]\n",
      " [1 2 1]\n",
      " [2 1 1]\n",
      " [2 2 1]\n",
      " [0 0 2]\n",
      " [2 1 1]\n",
      " [1 2 0]]\n"
     ]
    }
   ],
   "source": [
    "arr = np.random.randint(0,3,(10,3))\n",
    "print(arr)\n",
    "print(10*\"-\")\n",
    "\n",
    "i = 0\n",
    "while i < np.size(arr,axis=0):\n",
    "    if len(np.unique(arr[i]))==1:\n",
    "        arr = np.delete(arr,i, axis=0)\n",
    "        i -= 1\n",
    "    i += 1\n",
    "     \n",
    "print(arr)"
   ]
  },
  {
   "cell_type": "markdown",
   "id": "28f0d116",
   "metadata": {},
   "source": [
    "**6.** Дан двумерный массив. Удалить те строки, которые повторяются"
   ]
  },
  {
   "cell_type": "code",
   "execution_count": 25,
   "id": "83d2c0b7",
   "metadata": {},
   "outputs": [
    {
     "name": "stdout",
     "output_type": "stream",
     "text": [
      "[[1 8 3 3 4]\n",
      " [1 8 9 9 4]\n",
      " [1 8 3 3 4]\n",
      " [1 8 3 3 4]\n",
      " [1 8 0 3 4]\n",
      " [1 8 9 9 4]]\n",
      "----------\n",
      "[[1 8 0 3 4]\n",
      " [1 8 3 3 4]\n",
      " [1 8 9 9 4]]\n"
     ]
    }
   ],
   "source": [
    "arr = np.array([[1, 8, 3, 3, 4],\n",
    "       [1, 8, 9, 9, 4],\n",
    "       [1, 8, 3, 3, 4],\n",
    "       [1, 8, 3, 3, 4],\n",
    "       [1, 8, 0, 3, 4],\n",
    "       [1, 8, 9, 9, 4]])\n",
    "print(arr)\n",
    "print(10*'-')\n",
    "arr = np.unique(arr, axis=0)\n",
    "print(arr)"
   ]
  },
  {
   "cell_type": "markdown",
   "id": "6daa9e37",
   "metadata": {},
   "source": [
    "______\n",
    "______"
   ]
  },
  {
   "cell_type": "markdown",
   "id": "cfbfcaff",
   "metadata": {},
   "source": [
    "Для каждой из следующих задач (1-5) нужно привести 2 реализации – одна без использования numpy (cчитайте, что там, где на входе или выходе должны быть numpy array, будут просто списки), а вторая полностью векторизованная с использованием numpy (без использования питоновских циклов/map/list comprehension).\n",
    "\n",
    "\n",
    "__Замечание 1.__ Можно считать, что все указанные объекты непустые (к примеру, в __задаче 1__ на диагонали матрицы есть ненулевые элементы).\n",
    "\n",
    "__Замечание 2.__ Для большинства задач решение занимает не больше 1-2 строк."
   ]
  },
  {
   "cell_type": "markdown",
   "id": "673cac7f",
   "metadata": {},
   "source": [
    "___"
   ]
  },
  {
   "cell_type": "markdown",
   "id": "ca6f585e",
   "metadata": {},
   "source": [
    "* __Задача 1__: Подсчитать произведение ненулевых элементов на диагонали прямоугольной матрицы.  \n",
    " Например, для X = np.array([[1, 0, 1], [2, 0, 2], [3, 0, 3], [4, 4, 4]]) ответ 3."
   ]
  },
  {
   "cell_type": "code",
   "execution_count": 38,
   "id": "065862fc",
   "metadata": {},
   "outputs": [
    {
     "name": "stdout",
     "output_type": "stream",
     "text": [
      "p1 =  3\n",
      "p2 =  3\n"
     ]
    }
   ],
   "source": [
    "# 1st way\n",
    "x1 = [[1, 0, 1], [2, 0, 2], [3, 0, 3], [4, 4, 4]]\n",
    "p1 = 1\n",
    "for i in range(len(x1)):\n",
    "    for j in range(len(x1[i])):\n",
    "        if i == j and x1[i][j] != 0:\n",
    "            p1 *= x1[i][j]\n",
    "print(\"p1 = \",p1)\n",
    "\n",
    "# 2nd way\n",
    "x2 = np.array([[1, 0, 1], [2, 0, 2], [3, 0, 3], [4, 4, 4]])\n",
    "a = x2.diagonal()\n",
    "p2 = np.prod(a[a!=0])\n",
    "print(\"p2 = \", p2)"
   ]
  },
  {
   "cell_type": "markdown",
   "id": "9fc51d41",
   "metadata": {},
   "source": [
    "* __Задача 2__: Даны два вектора x и y. Проверить, задают ли они одно и то же мультимножество.  \n",
    "  Например, для x = np.array([1, 2, 2, 4]), y = np.array([4, 2, 1, 2]) ответ True."
   ]
  },
  {
   "cell_type": "code",
   "execution_count": 43,
   "id": "a809e02f",
   "metadata": {},
   "outputs": [
    {
     "name": "stdout",
     "output_type": "stream",
     "text": [
      "True\n",
      "True\n"
     ]
    }
   ],
   "source": [
    "# 1nd way\n",
    "x = [1, 2, 2, 4]\n",
    "y = [4, 2, 1, 2]\n",
    "print(sorted(x)==sorted(y))\n",
    "\n",
    "# 2n way\n",
    "x = np.array([1, 2, 2, 4])\n",
    "y = np.array([4, 2, 1, 2])\n",
    "print(x.sort() == y.sort())"
   ]
  },
  {
   "cell_type": "markdown",
   "id": "b9c185c7",
   "metadata": {},
   "source": [
    "* __Задача 3__: Найти максимальный элемент в векторе x среди элементов, перед которыми стоит ноль. \n",
    " Например, для x = np.array([6, 2, 0, 3, 0, 0, 5, 7, 0]) ответ 5."
   ]
  },
  {
   "cell_type": "code",
   "execution_count": 184,
   "id": "b57df008",
   "metadata": {},
   "outputs": [
    {
     "name": "stdout",
     "output_type": "stream",
     "text": [
      "5\n"
     ]
    }
   ],
   "source": [
    "# 1st way\n",
    "x = [6, 2, 0, 3, 0, 0, 5, 7, 0]\n",
    "new_arr = []\n",
    "for i in range(len(x)):\n",
    "    if x[i] == 0 and i != len(x)-1:\n",
    "        new_arr.append(x[i+1])\n",
    "maximum = max(new_arr)\n",
    "print(maximum)"
   ]
  },
  {
   "cell_type": "code",
   "execution_count": 185,
   "id": "cb212f93",
   "metadata": {},
   "outputs": [
    {
     "name": "stdout",
     "output_type": "stream",
     "text": [
      "5\n"
     ]
    }
   ],
   "source": [
    "# 2nd way\n",
    "x = np.array([6, 2, 0, 3, 0, 0, 5, 7, 0])\n",
    "a = np.where(x[:len(x)-1] == 0)[0] + 1\n",
    "maximum = max(x[a])\n",
    "print(maximum)"
   ]
  },
  {
   "cell_type": "markdown",
   "id": "480be4ce",
   "metadata": {},
   "source": [
    "* __Задача 4__: Реализовать кодирование длин серий (Run-length encoding). Для некоторого вектора x необходимо вернуть кортеж из двух векторов одинаковой длины. Первый содержит числа, а второй - сколько раз их нужно повторить.  \n",
    " Например, для x = np.array([2, 2, 2, 3, 3, 3, 5]) ответ (np.array([2, 3, 5]), np.array([3, 3, 1]))."
   ]
  },
  {
   "cell_type": "code",
   "execution_count": 53,
   "id": "3c592124",
   "metadata": {},
   "outputs": [
    {
     "name": "stdout",
     "output_type": "stream",
     "text": [
      "Numbers:  [2, 3, 5]\n",
      "Quantity of each number:  [3, 3, 1]\n"
     ]
    }
   ],
   "source": [
    "# 1st way\n",
    "x = [2, 2, 2, 3, 3, 3, 5]\n",
    "nums = [x[0]]\n",
    "counts = [0]\n",
    "for i in range(len(x)):\n",
    "    if nums[-1] != x[i]:\n",
    "        nums.append(x[i])\n",
    "        counts.append(1)\n",
    "    else:\n",
    "        counts[-1] += 1\n",
    "        \n",
    "print(\"Numbers: \", nums)\n",
    "print(\"Quantity of each number: \", counts)"
   ]
  },
  {
   "cell_type": "code",
   "execution_count": 186,
   "id": "4e09e509",
   "metadata": {},
   "outputs": [
    {
     "name": "stdout",
     "output_type": "stream",
     "text": [
      "(array([2, 3, 5]), array([3, 3, 1], dtype=int64))\n"
     ]
    }
   ],
   "source": [
    "# 2nd way\n",
    "x = np.array([2, 2, 2, 3, 3, 3, 5,])\n",
    "print(np.unique(x, return_counts=True))"
   ]
  },
  {
   "cell_type": "markdown",
   "id": "077532ec",
   "metadata": {},
   "source": [
    "* __Задача 5__: Даны две выборки объектов - X и Y. Вычислить матрицу евклидовых расстояний между объектами. Сравните с функцией scipy.spatial.distance.cdist по скорости работы."
   ]
  },
  {
   "cell_type": "code",
   "execution_count": 196,
   "id": "1e807797",
   "metadata": {},
   "outputs": [
    {
     "name": "stdout",
     "output_type": "stream",
     "text": [
      "[[1 7]\n",
      " [4 1]\n",
      " [9 2]]\n",
      "[[2 9]\n",
      " [5 3]\n",
      " [4 5]]\n",
      "[[2.24, 8.25, 9.9], [5.66, 2.24, 4.12], [3.61, 4.0, 5.83]]\n",
      "Time of executing: 1.9965171813964844 ms\n"
     ]
    }
   ],
   "source": [
    "# 1st way\n",
    "import time \n",
    "start_time = time.time()\n",
    "\n",
    "x = np.random.randint(0, 10, (3, 2))\n",
    "print(x)\n",
    "y = np.random.randint(0, 10, (3, 2))\n",
    "print(y)\n",
    "\n",
    "res = []\n",
    "dim = len(x[0])\n",
    "for j in range(len(y)):\n",
    "    res.append([])\n",
    "    for i in range(len(x)):\n",
    "        s = 0\n",
    "        for k in range(dim):\n",
    "            s += (x[i][k]-y[j][k])**2\n",
    "        res[j].append(round(s**(1/2),2))\n",
    "print(res)\n",
    "\n",
    "print(f\"Time of executing: {(time.time() - start_time)*1000} ms\")\n",
    "\n"
   ]
  },
  {
   "cell_type": "markdown",
   "id": "973e8064",
   "metadata": {},
   "source": [
    "_______\n",
    "________"
   ]
  },
  {
   "cell_type": "code",
   "execution_count": 197,
   "id": "37a9a114",
   "metadata": {},
   "outputs": [
    {
     "name": "stdout",
     "output_type": "stream",
     "text": [
      "[[1 2]\n",
      " [7 8]\n",
      " [6 5]]\n",
      "[[7 4]\n",
      " [1 2]\n",
      " [8 1]]\n",
      "[[6.32 0.   7.07]\n",
      " [4.   8.49 7.07]\n",
      " [1.41 5.83 4.47]]\n",
      "Time of executing: 2.9973983764648438 ms\n"
     ]
    }
   ],
   "source": [
    "# 2nd way\n",
    "start_time = time.time() \n",
    "\n",
    "x = np.random.randint(0, 10, (3, 2))\n",
    "print(x)\n",
    "y = np.random.randint(0, 10, (3, 2))\n",
    "print(y)\n",
    "x1 = np.repeat(x,len(y),axis=0).reshape(len(x),-1,2)\n",
    "y1 = np.repeat(y, len(x), axis=0).reshape(len(y),-1,2).transpose(1,0,2)\n",
    "res = np.sqrt(np.sum((x1 - y1)**2, axis=2)).round(2)\n",
    "print(res)\n",
    "\n",
    "print(f\"Time of executing: {(time.time() - start_time)*1000} ms\")"
   ]
  },
  {
   "cell_type": "code",
   "execution_count": 195,
   "id": "1d5df09d",
   "metadata": {},
   "outputs": [
    {
     "name": "stdout",
     "output_type": "stream",
     "text": [
      "[[0 4]\n",
      " [3 8]\n",
      " [6 9]]\n",
      "[[4 2]\n",
      " [5 8]\n",
      " [1 9]]\n",
      "[[4.47213595 6.40312424 5.09901951]\n",
      " [6.08276253 2.         2.23606798]\n",
      " [7.28010989 1.41421356 5.        ]]\n",
      "Time of executing: 1.9977092742919922 ms\n"
     ]
    }
   ],
   "source": [
    "# 3rd way\n",
    "from scipy import spatial\n",
    "\n",
    "start_time = time.time() \n",
    "\n",
    "x = np.random.randint(0, 10, (3, 2))\n",
    "print(x)\n",
    "y = np.random.randint(0, 10, (3, 2))\n",
    "print(y)\n",
    "\n",
    "res = spatial.distance.cdist(x, y)\n",
    "print(res)\n",
    "\n",
    "print(f\"Time of executing: {(time.time() - start_time)*1000} ms\")"
   ]
  },
  {
   "cell_type": "markdown",
   "id": "1104acb7",
   "metadata": {},
   "source": [
    "* #### __Задача 6__: CrunchieMunchies __*__\n",
    "\n",
    "Вы работаете в отделе маркетинга пищевой компании MyCrunch, которая разрабатывает новый вид вкусных, полезных злаков под названием **CrunchieMunchies**.\n",
    "\n",
    "Вы хотите продемонстрировать потребителям, насколько полезны ваши хлопья по сравнению с другими ведущими брендами, поэтому вы собрали данные о питании нескольких разных конкурентов.\n",
    "\n",
    "Ваша задача - использовать вычисления Numpy для анализа этих данных и доказать, что ваши **СrunchieMunchies** - самый здоровый выбор для потребителей.\n"
   ]
  },
  {
   "cell_type": "code",
   "execution_count": 77,
   "id": "10a77f8d",
   "metadata": {},
   "outputs": [],
   "source": [
    "import numpy as np"
   ]
  },
  {
   "cell_type": "markdown",
   "id": "ab87cb03",
   "metadata": {},
   "source": [
    "1. Просмотрите файл cereal.csv. Этот файл содержит количества калорий для различных марок хлопьев. Загрузите данные из файла и сохраните их как calorie_stats."
   ]
  },
  {
   "cell_type": "code",
   "execution_count": 29,
   "id": "9681ebf2",
   "metadata": {},
   "outputs": [
    {
     "data": {
      "text/plain": [
       "array([ 70., 120.,  70.,  50., 110., 110., 110., 130.,  90.,  90., 120.,\n",
       "       110., 120., 110., 110., 110., 100., 110., 110., 110., 100., 110.,\n",
       "       100., 100., 110., 110., 100., 120., 120., 110., 100., 110., 100.,\n",
       "       110., 120., 120., 110., 110., 110., 140., 110., 100., 110., 100.,\n",
       "       150., 150., 160., 100., 120., 140.,  90., 130., 120., 100.,  50.,\n",
       "        50., 100., 100., 120., 100.,  90., 110., 110.,  80.,  90.,  90.,\n",
       "       110., 110.,  90., 110., 140., 100., 110., 110., 100., 100., 110.])"
      ]
     },
     "execution_count": 29,
     "metadata": {},
     "output_type": "execute_result"
    }
   ],
   "source": [
    "calorie_stats = np.loadtxt(\"./cereal.csv\", delimiter=\",\")\n",
    "calorie_stats"
   ]
  },
  {
   "cell_type": "markdown",
   "id": "139cfbd8",
   "metadata": {},
   "source": [
    "2. В одной порции CrunchieMunchies содержится 60 калорий. Насколько выше среднее количество калорий у ваших конкурентов?\n",
    "\n",
    "Сохраните ответ в переменной average_calories и распечатайте переменную в терминале"
   ]
  },
  {
   "cell_type": "code",
   "execution_count": 30,
   "id": "7036d240",
   "metadata": {},
   "outputs": [
    {
     "name": "stdout",
     "output_type": "stream",
     "text": [
      "47.0\n"
     ]
    }
   ],
   "source": [
    "average_calories = np.round(np.mean(calorie_stats)) - 60\n",
    "print(average_calories)"
   ]
  },
  {
   "cell_type": "markdown",
   "id": "b2ddb4cd",
   "metadata": {},
   "source": [
    "3. Корректно ли среднее количество калорий отражает распределение набора данных? Давайте отсортируем данные и посмотрим.\n",
    "\n",
    "Отсортируйте данные и сохраните результат в переменной calorie_stats_sorted. Распечатайте отсортированную информацию"
   ]
  },
  {
   "cell_type": "code",
   "execution_count": 76,
   "id": "46eeb4ed",
   "metadata": {},
   "outputs": [
    {
     "name": "stdout",
     "output_type": "stream",
     "text": [
      "[ 50.  50.  50.  70.  70.  80.  90.  90.  90.  90.  90.  90.  90. 100.\n",
      " 100. 100. 100. 100. 100. 100. 100. 100. 100. 100. 100. 100. 100. 100.\n",
      " 100. 100. 110. 110. 110. 110. 110. 110. 110. 110. 110. 110. 110. 110.\n",
      " 110. 110. 110. 110. 110. 110. 110. 110. 110. 110. 110. 110. 110. 110.\n",
      " 110. 110. 110. 120. 120. 120. 120. 120. 120. 120. 120. 120. 120. 130.\n",
      " 130. 140. 140. 140. 150. 150. 160.]\n"
     ]
    }
   ],
   "source": [
    "calorie_stats_sorted = np.sort(calorie_stats)\n",
    "print(calorie_stats_sorted)"
   ]
  },
  {
   "cell_type": "markdown",
   "id": "4dc74116",
   "metadata": {},
   "source": [
    "4. Похоже, что большинство значений выше среднего. Давайте посмотрим, является ли медиана наиболее корректным показателем набора данных.\n",
    "\n",
    "Вычислите медиану набора данных и сохраните свой ответ в median_calories. Выведите медиану, чтобы вы могли видеть, как она сравнивается со средним значением."
   ]
  },
  {
   "cell_type": "code",
   "execution_count": 78,
   "id": "b56627c3",
   "metadata": {},
   "outputs": [
    {
     "name": "stdout",
     "output_type": "stream",
     "text": [
      "110.0\n"
     ]
    }
   ],
   "source": [
    "median_calories = np.median(calorie_stats_sorted)\n",
    "print(median_calories)"
   ]
  },
  {
   "cell_type": "markdown",
   "id": "a63ab72f",
   "metadata": {},
   "source": [
    "5. В то время как медиана показывает, что по крайней мере половина наших значений составляет более 100 калорий, было бы более впечатляюще показать, что значительная часть конкурентов имеет более высокое количество калорий, чем CrunchieMunchies.\n",
    "\n",
    "Рассчитайте различные процентили и распечатайте их, пока не найдете наименьший процентиль, превышающий 60 калорий. Сохраните это значение в переменной nth_percentile."
   ]
  },
  {
   "cell_type": "code",
   "execution_count": 89,
   "id": "fe80ce03",
   "metadata": {},
   "outputs": [
    {
     "name": "stdout",
     "output_type": "stream",
     "text": [
      "nth_persentile =  4 %\n"
     ]
    }
   ],
   "source": [
    "for i in range(101):\n",
    "    percentile_value = np.percentile(calorie_stats, i)\n",
    "    if percentile_value > 60:\n",
    "        nth_percentile = i\n",
    "        break\n",
    "print(\"nth_persentile = \", nth_percentile, \"%\")"
   ]
  },
  {
   "cell_type": "markdown",
   "id": "a2a3c5aa",
   "metadata": {},
   "source": [
    "6. Хотя процентиль показывает нам, что у большинства конкурентов количество калорий намного выше, это неудобная концепция для использования в маркетинговых материалах.\n",
    "\n",
    "Вместо этого давайте подсчитаем процент хлопьев, в которых содержится более 60 калорий на порцию. Сохраните свой ответ в переменной more_calories и распечатайте его"
   ]
  },
  {
   "cell_type": "code",
   "execution_count": 94,
   "id": "ade0f6ea",
   "metadata": {},
   "outputs": [
    {
     "name": "stdout",
     "output_type": "stream",
     "text": [
      "96.0 %\n"
     ]
    }
   ],
   "source": [
    "more_calories = np.round(100*len(calorie_stats[calorie_stats > 60])/len(calorie_stats))\n",
    "print(more_calories,\"%\")"
   ]
  },
  {
   "cell_type": "markdown",
   "id": "1735d65b",
   "metadata": {},
   "source": [
    "7. Это действительно высокий процент. Это будет очень полезно, когда мы будем продвигать CrunchieMunchies. Но один вопрос заключается в том, насколько велики различия в наборе данных? Можем ли мы сделать обобщение, что в большинстве злаков содержится около 100 калорий или разброс еще больше?\n",
    "\n",
    "Рассчитайте величину отклонения, найдя стандартное отклонение, Сохраните свой ответ в calorie_std и распечатайте на терминале. Как мы можем включить эту ценность в наш анализ?"
   ]
  },
  {
   "cell_type": "code",
   "execution_count": 95,
   "id": "85c8df1f",
   "metadata": {},
   "outputs": [
    {
     "name": "stdout",
     "output_type": "stream",
     "text": [
      "19.35718533390827\n"
     ]
    }
   ],
   "source": [
    "calorie_std = np.std(calorie_stats)\n",
    "print(calorie_std)"
   ]
  },
  {
   "cell_type": "markdown",
   "id": "037455c5",
   "metadata": {},
   "source": [
    "8. Напишите короткий абзац, в котором кратко изложите свои выводы и то, как, по вашему мнению, эти данные могут быть использованы в интересах Mycrunch при маркетинге CrunchieMunchies."
   ]
  },
  {
   "cell_type": "code",
   "execution_count": 97,
   "id": "c260fee9",
   "metadata": {},
   "outputs": [],
   "source": [
    "# Стандартное отклонение в 19.4 каллории говорит об умеренном разбросе данных, а значит данные более-менее равномерны и им \n",
    "# можно доверять.\n",
    "# Посмотрев на все полученные данные можно сказать, что батончики CrunchieMunchies намного опережают большинство других \n",
    "# конкурентов по уровню каллорийности, а каллорийность является ведущей характеристикой для спортивных батончиков. Таким образом можно \n",
    "# утверждать, что батончики CrunchieMunchies заимеют успех в продажах при хорошем маркетинге. Специалистам по маркентигу следует \n",
    "# следует сделать акцент на том, насколько меньше каллорийность в CrunchieMunchies по сравнению со средним батончиком, а также\n",
    "# на то, что батончик опережает по каллорийности 96% остальных батончиков."
   ]
  },
  {
   "cell_type": "code",
   "execution_count": null,
   "id": "197b7d1f",
   "metadata": {},
   "outputs": [],
   "source": []
  }
 ],
 "metadata": {
  "kernelspec": {
   "display_name": "Python 3 (ipykernel)",
   "language": "python",
   "name": "python3"
  },
  "language_info": {
   "codemirror_mode": {
    "name": "ipython",
    "version": 3
   },
   "file_extension": ".py",
   "mimetype": "text/x-python",
   "name": "python",
   "nbconvert_exporter": "python",
   "pygments_lexer": "ipython3",
   "version": "3.9.7"
  }
 },
 "nbformat": 4,
 "nbformat_minor": 5
}
